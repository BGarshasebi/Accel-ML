{
 "cells": [
  {
   "cell_type": "code",
   "execution_count": null,
   "id": "22a9dd31",
   "metadata": {},
   "outputs": [],
   "source": [
    "import numpy as np\n",
    "import matplotlib.pyplot as plt\n",
    "import pandas as pd\n",
    "from sklearn.svm import SVC\n",
    "from sklearn.utils import shuffle\n",
    "from sklearn import datasets\n",
    "from sklearn.metrics import f1_score\n",
    "from sklearn.neighbors import NearestNeighbors\n",
    "from sklearn import neighbors\n",
    "from sklearn.metrics import mean_squared_error, mean_absolute_error"
   ]
  },
  {
   "cell_type": "code",
   "execution_count": null,
   "id": "7e09fb20",
   "metadata": {},
   "outputs": [],
   "source": [
    "from sklearn.model_selection import KFold\n",
    "kf = KFold(n_splits=5, shuffle=True)\n"
   ]
  },
  {
   "cell_type": "code",
   "execution_count": null,
   "id": "87791eff",
   "metadata": {},
   "outputs": [],
   "source": [
    "# Load your own CSV data\n",
    "data = pd.read_csv(r\"D:\\output_long_format101519.csv\")"
   ]
  },
  {
   "cell_type": "code",
   "execution_count": null,
   "id": "b36ae5b3",
   "metadata": {},
   "outputs": [],
   "source": [
    "data.columns.tolist()"
   ]
  },
  {
   "cell_type": "code",
   "execution_count": null,
   "id": "a16fdad1",
   "metadata": {},
   "outputs": [],
   "source": [
    "# Independent and dependent variable names\n",
    "dependent_var = \"total_cvsp\"  # Change this to your dependent variable\n",
    "independent_vars = [\"Job_densit\", \"b_eithee_1\", \"black_ad_1\", \"Femalehh_p\", \"poverty__1\", \n",
    "         \"low_inco_1\", \"nocar_hh_1\", \"own_hous_1\", \"emp_p\", \"educ_b_a_1\", \"wfh_p\", \n",
    "         \"bc_p\", \"wc_P\", \"int_densit\", \"Shannons_D\", \"Parking__1\", \"ten_access\", \n",
    "         \"ten_egress\", \"ten_fare\", \"ten_penalt\", \"ten_transf\", \"ten_invehi\", \"ten_wait\", \n",
    "         \"CBD\", \"pt\", \"Ramp\", \"Subcenter\", \"Acc_WC_TRA\", \"year_2015\", \"year_2019\" ]  # Change these to your independent variables\n",
    "\n",
    "# Prepare dependent variable\n",
    "y = data['total_cvsp'].values\n",
    "\n",
    "# Prepare independent variables\n",
    "X = data[[\"Job_densit\", \"b_eithee_1\", \"black_ad_1\", \"Femalehh_p\", \"poverty__1\", \n",
    "         \"low_inco_1\", \"nocar_hh_1\", \"own_hous_1\", \"emp_p\", \"educ_b_a_1\", \"wfh_p\", \n",
    "         \"bc_p\", \"wc_P\", \"int_densit\", \"Shannons_D\", \"Parking__1\", \"ten_access\", \n",
    "         \"ten_egress\", \"ten_fare\", \"ten_penalt\", \"ten_transf\", \"ten_invehi\", \"ten_wait\", \n",
    "         \"CBD\", \"pt\", \"Ramp\", \"Subcenter\", \"Acc_WC_TRA\", \"year_2015\", \"year_2019\"]].values"
   ]
  },
  {
   "cell_type": "code",
   "execution_count": null,
   "id": "7f8fec45",
   "metadata": {},
   "outputs": [],
   "source": [
    "\n",
    "\n",
    "for i, (train_index, test_index) in enumerate(kf.split(X)):\n",
    "    print(f\"fold {i}:\")\n",
    "    print (f\"Train:index={train_index}\")"
   ]
  },
  {
   "cell_type": "code",
   "execution_count": null,
   "id": "c65aa1a7",
   "metadata": {},
   "outputs": [],
   "source": [
    "import numpy as np\n",
    "from sklearn.model_selection import KFold, ShuffleSplit\n",
    "from sklearn.ensemble import RandomForestRegressor\n",
    "from sklearn.metrics import mean_absolute_error"
   ]
  },
  {
   "cell_type": "code",
   "execution_count": null,
   "id": "66d0d344",
   "metadata": {},
   "outputs": [],
   "source": [
    "rf_all = []\n",
    "rf_mae_all = []\n",
    "best_mae = float('inf')\n",
    "# consider using a more relevant metric name (e.g., mae_all)\n",
    "feature_importance_all = []\n",
    "for repeat in range(5):\n",
    "    print('repeat is', repeat)\n",
    "    \n",
    "    test_score_all_rf = []\n",
    "    test_score_all_rf_MAE = []\n",
    "    feature_importance = []\n",
    "    \n",
    "    for i, (train_index, test_index) in enumerate(kf.split(X)):\n",
    "        print(\"batch is\", i)\n",
    "        \n",
    "        train_index_shuffle = shuffle(train_index)\n",
    "        sub_train_index = train_index_shuffle[:int(len(train_index)*0.875)]\n",
    "        sub_valid_index = train_index_shuffle[int(len(train_index)*0.875):]\n",
    "        \n",
    "        train_feature = X[sub_train_index]\n",
    "        train_label = y[sub_train_index]\n",
    "        \n",
    "        valid_feature = X[sub_valid_index]\n",
    "        valid_label = y[sub_valid_index]\n",
    "        \n",
    "        test_feature = X[test_index]\n",
    "        test_label = y[test_index]\n",
    "        \n",
    "        n_estimators= [500]\n",
    "        max_depths= [20]\n",
    "        \n",
    "        best_valid_score = float('-inf')\n",
    "        model = RandomForestRegressor(n_estimators=n_estimators, max_depth=max_depths)\n",
    "        model.fit(train_feature, train_label)\n",
    "        valid_score = model.score(valid_feature, valid_label)\n",
    "                \n",
    "        if valid_score > best_valid_score:\n",
    "            best_valid_score = valid_score\n",
    "            test_score = model.score(test_feature, test_label)\n",
    "            pred = model.predict(test_feature)\n",
    "            best_MAE = mean_absolute_error(test_label, pred)\n",
    "            best_n = ne\n",
    "            best_d = m_d\n",
    "                if best_MAE < best_mae:\n",
    "                    best_mae = best_MAE\n",
    "                    best_model = model\n",
    "                    best_feature_importance = model.feature_importances_\n",
    "        \n",
    "        print('test score is', test_score)\n",
    "        test_score_all_rf.append(test_score)\n",
    "        test_score_all_rf_MAE.append(best_MAE)\n",
    "        feature_importance.append(best_feature_importance)\n",
    "        print('MAE is', best_MAE)\n",
    "        print('best n is', best_n)\n",
    "        print('best d is', best_d)\n",
    "        print('')\n",
    "    \n",
    "    print('mean accuracy in this repeat', np.mean(test_score_all_rf))\n",
    "    print('mean MAE score in this repeat', np.mean(test_score_all_rf_MAE))\n",
    "    \n",
    "    rf_all.append(np.mean(test_score_all_rf))\n",
    "    rf_mae_all.append(np.mean(test_score_all_rf_MAE))\n",
    "    \n",
    "print('mean accuracy for all repeats', np.mean(rf_all))\n",
    "print('mean MAE for all repeats', np.mean(rf_mae_all))\n",
    "print('Best MAE:', best_mae)\n",
    "print('Feature Importance of the Best Model:', best_feature_importance)\n"
   ]
  }
 ],
 "metadata": {
  "kernelspec": {
   "display_name": "Python 3 (ipykernel)",
   "language": "python",
   "name": "python3"
  },
  "language_info": {
   "codemirror_mode": {
    "name": "ipython",
    "version": 3
   },
   "file_extension": ".py",
   "mimetype": "text/x-python",
   "name": "python",
   "nbconvert_exporter": "python",
   "pygments_lexer": "ipython3",
   "version": "3.11.5"
  }
 },
 "nbformat": 4,
 "nbformat_minor": 5
}
